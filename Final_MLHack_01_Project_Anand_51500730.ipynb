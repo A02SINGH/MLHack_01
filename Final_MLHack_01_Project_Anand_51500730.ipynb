{
 "cells": [
  {
   "cell_type": "code",
   "execution_count": 1,
   "metadata": {},
   "outputs": [],
   "source": [
    "import numpy as np\n",
    "import pandas as pd\n",
    "import seaborn as sns\n",
    "import matplotlib.pyplot as plt\n",
    "from sklearn.preprocessing import MinMaxScaler\n",
    "from sklearn.model_selection import train_test_split\n",
    "from sklearn.linear_model import LogisticRegression\n",
    "import statsmodels.formula.api as sm\n",
    "from statsmodels.graphics.gofplots import qqplot\n",
    "from sklearn.metrics import accuracy_score\n",
    "%matplotlib inline"
   ]
  },
  {
   "cell_type": "code",
   "execution_count": 2,
   "metadata": {},
   "outputs": [],
   "source": [
    "#Load the data sets \n",
    "df=pd.read_csv('Train.csv')"
   ]
  },
  {
   "cell_type": "code",
   "execution_count": 3,
   "metadata": {},
   "outputs": [
    {
     "data": {
      "text/plain": [
       "(16000, 7)"
      ]
     },
     "execution_count": 3,
     "metadata": {},
     "output_type": "execute_result"
    }
   ],
   "source": [
    "#Find Total Rows and columns \n",
    "df.shape"
   ]
  },
  {
   "cell_type": "code",
   "execution_count": 4,
   "metadata": {},
   "outputs": [
    {
     "data": {
      "text/html": [
       "<div>\n",
       "<style scoped>\n",
       "    .dataframe tbody tr th:only-of-type {\n",
       "        vertical-align: middle;\n",
       "    }\n",
       "\n",
       "    .dataframe tbody tr th {\n",
       "        vertical-align: top;\n",
       "    }\n",
       "\n",
       "    .dataframe thead th {\n",
       "        text-align: right;\n",
       "    }\n",
       "</style>\n",
       "<table border=\"1\" class=\"dataframe\">\n",
       "  <thead>\n",
       "    <tr style=\"text-align: right;\">\n",
       "      <th></th>\n",
       "      <th>ACTIVITY</th>\n",
       "      <th>TIME</th>\n",
       "      <th>SL</th>\n",
       "      <th>EEG</th>\n",
       "      <th>BP</th>\n",
       "      <th>HR</th>\n",
       "      <th>CIRCLUATION</th>\n",
       "    </tr>\n",
       "  </thead>\n",
       "  <tbody>\n",
       "    <tr>\n",
       "      <th>0</th>\n",
       "      <td>3</td>\n",
       "      <td>4722.92</td>\n",
       "      <td>4019.64</td>\n",
       "      <td>-1600.00</td>\n",
       "      <td>13</td>\n",
       "      <td>79</td>\n",
       "      <td>317</td>\n",
       "    </tr>\n",
       "    <tr>\n",
       "      <th>1</th>\n",
       "      <td>2</td>\n",
       "      <td>4059.12</td>\n",
       "      <td>2191.03</td>\n",
       "      <td>-1146.08</td>\n",
       "      <td>20</td>\n",
       "      <td>54</td>\n",
       "      <td>165</td>\n",
       "    </tr>\n",
       "    <tr>\n",
       "      <th>2</th>\n",
       "      <td>2</td>\n",
       "      <td>4773.56</td>\n",
       "      <td>2787.99</td>\n",
       "      <td>-1263.38</td>\n",
       "      <td>46</td>\n",
       "      <td>67</td>\n",
       "      <td>224</td>\n",
       "    </tr>\n",
       "    <tr>\n",
       "      <th>3</th>\n",
       "      <td>4</td>\n",
       "      <td>8271.27</td>\n",
       "      <td>9545.98</td>\n",
       "      <td>-2848.93</td>\n",
       "      <td>26</td>\n",
       "      <td>138</td>\n",
       "      <td>554</td>\n",
       "    </tr>\n",
       "    <tr>\n",
       "      <th>4</th>\n",
       "      <td>4</td>\n",
       "      <td>7102.16</td>\n",
       "      <td>14148.80</td>\n",
       "      <td>-2381.15</td>\n",
       "      <td>85</td>\n",
       "      <td>120</td>\n",
       "      <td>809</td>\n",
       "    </tr>\n",
       "  </tbody>\n",
       "</table>\n",
       "</div>"
      ],
      "text/plain": [
       "   ACTIVITY     TIME        SL      EEG  BP   HR  CIRCLUATION\n",
       "0         3  4722.92   4019.64 -1600.00  13   79          317\n",
       "1         2  4059.12   2191.03 -1146.08  20   54          165\n",
       "2         2  4773.56   2787.99 -1263.38  46   67          224\n",
       "3         4  8271.27   9545.98 -2848.93  26  138          554\n",
       "4         4  7102.16  14148.80 -2381.15  85  120          809"
      ]
     },
     "execution_count": 4,
     "metadata": {},
     "output_type": "execute_result"
    }
   ],
   "source": [
    "#Datasets look at a glance  \n",
    "df.head()"
   ]
  },
  {
   "cell_type": "code",
   "execution_count": 5,
   "metadata": {},
   "outputs": [
    {
     "data": {
      "text/plain": [
       "(15999, 7)"
      ]
     },
     "execution_count": 5,
     "metadata": {},
     "output_type": "execute_result"
    }
   ],
   "source": [
    "#Drop Duplicate Value \n",
    "df=df.drop_duplicates()\n",
    "df.shape"
   ]
  },
  {
   "cell_type": "code",
   "execution_count": 6,
   "metadata": {},
   "outputs": [],
   "source": [
    "#UDF function to find missing value \n",
    "def miss_val(data):\n",
    "    return data.isnull().sum()/len(data)*100"
   ]
  },
  {
   "cell_type": "code",
   "execution_count": 7,
   "metadata": {},
   "outputs": [
    {
     "data": {
      "text/plain": [
       "ACTIVITY       0.0\n",
       "TIME           0.0\n",
       "SL             0.0\n",
       "EEG            0.0\n",
       "BP             0.0\n",
       "HR             0.0\n",
       "CIRCLUATION    0.0\n",
       "dtype: float64"
      ]
     },
     "execution_count": 7,
     "metadata": {},
     "output_type": "execute_result"
    }
   ],
   "source": [
    "miss_val(df)"
   ]
  },
  {
   "cell_type": "code",
   "execution_count": 8,
   "metadata": {},
   "outputs": [
    {
     "data": {
      "text/plain": [
       "ACTIVITY         int64\n",
       "TIME           float64\n",
       "SL             float64\n",
       "EEG            float64\n",
       "BP               int64\n",
       "HR               int64\n",
       "CIRCLUATION      int64\n",
       "dtype: object"
      ]
     },
     "execution_count": 8,
     "metadata": {},
     "output_type": "execute_result"
    }
   ],
   "source": [
    "#Find Out Data Types \n",
    "df.dtypes"
   ]
  },
  {
   "cell_type": "code",
   "execution_count": 9,
   "metadata": {},
   "outputs": [
    {
     "data": {
      "text/html": [
       "<div>\n",
       "<style scoped>\n",
       "    .dataframe tbody tr th:only-of-type {\n",
       "        vertical-align: middle;\n",
       "    }\n",
       "\n",
       "    .dataframe tbody tr th {\n",
       "        vertical-align: top;\n",
       "    }\n",
       "\n",
       "    .dataframe thead th {\n",
       "        text-align: right;\n",
       "    }\n",
       "</style>\n",
       "<table border=\"1\" class=\"dataframe\">\n",
       "  <thead>\n",
       "    <tr style=\"text-align: right;\">\n",
       "      <th></th>\n",
       "      <th>count</th>\n",
       "      <th>mean</th>\n",
       "      <th>std</th>\n",
       "      <th>min</th>\n",
       "      <th>25%</th>\n",
       "      <th>50%</th>\n",
       "      <th>75%</th>\n",
       "      <th>max</th>\n",
       "    </tr>\n",
       "  </thead>\n",
       "  <tbody>\n",
       "    <tr>\n",
       "      <th>ACTIVITY</th>\n",
       "      <td>15999.0</td>\n",
       "      <td>2.363960</td>\n",
       "      <td>1.739176</td>\n",
       "      <td>0.000000e+00</td>\n",
       "      <td>0.000</td>\n",
       "      <td>3.00</td>\n",
       "      <td>4.00</td>\n",
       "      <td>5.0</td>\n",
       "    </tr>\n",
       "    <tr>\n",
       "      <th>TIME</th>\n",
       "      <td>15999.0</td>\n",
       "      <td>10928.525139</td>\n",
       "      <td>5256.671745</td>\n",
       "      <td>1.954230e+03</td>\n",
       "      <td>7261.655</td>\n",
       "      <td>9767.79</td>\n",
       "      <td>13465.55</td>\n",
       "      <td>50895.5</td>\n",
       "    </tr>\n",
       "    <tr>\n",
       "      <th>SL</th>\n",
       "      <td>15999.0</td>\n",
       "      <td>75010.668211</td>\n",
       "      <td>126598.586113</td>\n",
       "      <td>4.222420e+01</td>\n",
       "      <td>9894.540</td>\n",
       "      <td>30976.70</td>\n",
       "      <td>80634.40</td>\n",
       "      <td>2426140.0</td>\n",
       "    </tr>\n",
       "    <tr>\n",
       "      <th>EEG</th>\n",
       "      <td>15999.0</td>\n",
       "      <td>-5649.135702</td>\n",
       "      <td>109507.162490</td>\n",
       "      <td>-1.262600e+07</td>\n",
       "      <td>-5629.010</td>\n",
       "      <td>-3360.00</td>\n",
       "      <td>-2147.65</td>\n",
       "      <td>1410000.0</td>\n",
       "    </tr>\n",
       "    <tr>\n",
       "      <th>BP</th>\n",
       "      <td>15999.0</td>\n",
       "      <td>58.247515</td>\n",
       "      <td>48.219037</td>\n",
       "      <td>0.000000e+00</td>\n",
       "      <td>25.000</td>\n",
       "      <td>44.00</td>\n",
       "      <td>78.00</td>\n",
       "      <td>533.0</td>\n",
       "    </tr>\n",
       "    <tr>\n",
       "      <th>HR</th>\n",
       "      <td>15999.0</td>\n",
       "      <td>211.359335</td>\n",
       "      <td>129.718827</td>\n",
       "      <td>3.300000e+01</td>\n",
       "      <td>119.000</td>\n",
       "      <td>180.00</td>\n",
       "      <td>271.00</td>\n",
       "      <td>981.0</td>\n",
       "    </tr>\n",
       "    <tr>\n",
       "      <th>CIRCLUATION</th>\n",
       "      <td>15999.0</td>\n",
       "      <td>2886.781674</td>\n",
       "      <td>3802.365106</td>\n",
       "      <td>5.000000e+00</td>\n",
       "      <td>587.000</td>\n",
       "      <td>1581.00</td>\n",
       "      <td>3539.00</td>\n",
       "      <td>52210.0</td>\n",
       "    </tr>\n",
       "  </tbody>\n",
       "</table>\n",
       "</div>"
      ],
      "text/plain": [
       "               count          mean            std           min       25%  \\\n",
       "ACTIVITY     15999.0      2.363960       1.739176  0.000000e+00     0.000   \n",
       "TIME         15999.0  10928.525139    5256.671745  1.954230e+03  7261.655   \n",
       "SL           15999.0  75010.668211  126598.586113  4.222420e+01  9894.540   \n",
       "EEG          15999.0  -5649.135702  109507.162490 -1.262600e+07 -5629.010   \n",
       "BP           15999.0     58.247515      48.219037  0.000000e+00    25.000   \n",
       "HR           15999.0    211.359335     129.718827  3.300000e+01   119.000   \n",
       "CIRCLUATION  15999.0   2886.781674    3802.365106  5.000000e+00   587.000   \n",
       "\n",
       "                  50%       75%        max  \n",
       "ACTIVITY         3.00      4.00        5.0  \n",
       "TIME          9767.79  13465.55    50895.5  \n",
       "SL           30976.70  80634.40  2426140.0  \n",
       "EEG          -3360.00  -2147.65  1410000.0  \n",
       "BP              44.00     78.00      533.0  \n",
       "HR             180.00    271.00      981.0  \n",
       "CIRCLUATION   1581.00   3539.00    52210.0  "
      ]
     },
     "execution_count": 9,
     "metadata": {},
     "output_type": "execute_result"
    }
   ],
   "source": [
    "#Statical value at a glance \n",
    "df.describe().T"
   ]
  },
  {
   "cell_type": "markdown",
   "metadata": {},
   "source": [
    "Trying to find,Out what activity happend before fall,So we shorted TIME varibale and make one new DataFrame "
   ]
  },
  {
   "cell_type": "code",
   "execution_count": 10,
   "metadata": {},
   "outputs": [
    {
     "data": {
      "text/plain": [
       "(15999, 7)"
      ]
     },
     "execution_count": 10,
     "metadata": {},
     "output_type": "execute_result"
    }
   ],
   "source": [
    "#Shorting the Time Variable with ascending order  \n",
    "df.sort_values(\"TIME\", axis = 0, ascending = True, \n",
    "                 inplace = True, na_position ='first') \n",
    "df.reset_index(drop=True)\n",
    "df.shape"
   ]
  },
  {
   "cell_type": "markdown",
   "metadata": {},
   "source": [
    "#Creating one data frame which have three columns ['Before','Fall','After']\n",
    "\n",
    "Before -->Activity Before fall,\n",
    "Fall-->Activty on Fall,\n",
    "Aftre-->Activity After fall"
   ]
  },
  {
   "cell_type": "code",
   "execution_count": 11,
   "metadata": {},
   "outputs": [],
   "source": [
    "#Creating One new DataFrame to find out what activity happend before fall.\n",
    "list1=[]\n",
    "for i,j in enumerate(df['ACTIVITY']):\n",
    "    if j==3:\n",
    "        list1.append((df.iloc[i-1][0],df.iloc[i][0],df.iloc[i+1][0]))\n",
    "df1=pd.DataFrame(list1,columns=['Before','Fall','After'])"
   ]
  },
  {
   "cell_type": "code",
   "execution_count": 12,
   "metadata": {},
   "outputs": [
    {
     "data": {
      "text/html": [
       "<div>\n",
       "<style scoped>\n",
       "    .dataframe tbody tr th:only-of-type {\n",
       "        vertical-align: middle;\n",
       "    }\n",
       "\n",
       "    .dataframe tbody tr th {\n",
       "        vertical-align: top;\n",
       "    }\n",
       "\n",
       "    .dataframe thead th {\n",
       "        text-align: right;\n",
       "    }\n",
       "</style>\n",
       "<table border=\"1\" class=\"dataframe\">\n",
       "  <thead>\n",
       "    <tr style=\"text-align: right;\">\n",
       "      <th></th>\n",
       "      <th>Before</th>\n",
       "      <th>Fall</th>\n",
       "      <th>After</th>\n",
       "    </tr>\n",
       "  </thead>\n",
       "  <tbody>\n",
       "    <tr>\n",
       "      <th>0</th>\n",
       "      <td>2.0</td>\n",
       "      <td>3.0</td>\n",
       "      <td>2.0</td>\n",
       "    </tr>\n",
       "    <tr>\n",
       "      <th>1</th>\n",
       "      <td>5.0</td>\n",
       "      <td>3.0</td>\n",
       "      <td>4.0</td>\n",
       "    </tr>\n",
       "    <tr>\n",
       "      <th>2</th>\n",
       "      <td>1.0</td>\n",
       "      <td>3.0</td>\n",
       "      <td>2.0</td>\n",
       "    </tr>\n",
       "    <tr>\n",
       "      <th>3</th>\n",
       "      <td>1.0</td>\n",
       "      <td>3.0</td>\n",
       "      <td>4.0</td>\n",
       "    </tr>\n",
       "    <tr>\n",
       "      <th>4</th>\n",
       "      <td>4.0</td>\n",
       "      <td>3.0</td>\n",
       "      <td>1.0</td>\n",
       "    </tr>\n",
       "  </tbody>\n",
       "</table>\n",
       "</div>"
      ],
      "text/plain": [
       "   Before  Fall  After\n",
       "0     2.0   3.0    2.0\n",
       "1     5.0   3.0    4.0\n",
       "2     1.0   3.0    2.0\n",
       "3     1.0   3.0    4.0\n",
       "4     4.0   3.0    1.0"
      ]
     },
     "execution_count": 12,
     "metadata": {},
     "output_type": "execute_result"
    }
   ],
   "source": [
    "df1.head()"
   ]
  },
  {
   "cell_type": "code",
   "execution_count": 13,
   "metadata": {},
   "outputs": [
    {
     "data": {
      "text/plain": [
       "0.0    28.538813\n",
       "3.0    24.200913\n",
       "4.0    21.347032\n",
       "2.0    13.670091\n",
       "5.0     9.760274\n",
       "1.0     2.482877\n",
       "Name: Before, dtype: float64"
      ]
     },
     "execution_count": 13,
     "metadata": {},
     "output_type": "execute_result"
    }
   ],
   "source": [
    "#Activity before Fall\n",
    "df1['Before'].value_counts()/len(df1)*100"
   ]
  },
  {
   "cell_type": "code",
   "execution_count": 14,
   "metadata": {},
   "outputs": [
    {
     "data": {
      "text/plain": [
       "0.0    28.082192\n",
       "3.0    24.200913\n",
       "4.0    21.461187\n",
       "2.0    13.984018\n",
       "5.0     9.960046\n",
       "1.0     2.311644\n",
       "Name: After, dtype: float64"
      ]
     },
     "execution_count": 14,
     "metadata": {},
     "output_type": "execute_result"
    }
   ],
   "source": [
    "#Activity After Fall\n",
    "df1['After'].value_counts()/len(df1)*100"
   ]
  },
  {
   "cell_type": "code",
   "execution_count": 15,
   "metadata": {},
   "outputs": [],
   "source": [
    "#Droping TIME variable \n",
    "df=df.drop(['TIME'],axis=1)"
   ]
  },
  {
   "cell_type": "code",
   "execution_count": 16,
   "metadata": {},
   "outputs": [],
   "source": [
    "#Find Out the OutLayer, I used IQR method .\n",
    "outliers=[]\n",
    "def detect_outlier1(data_1):\n",
    "    iqr=data_1.quantile(0.75)-data_1.quantile(0.25)\n",
    "    lo=data_1.quantile(0.25)-1.5*iqr\n",
    "    uo=data_1.quantile(0.75)+1.5*iqr\n",
    "    for y in data_1:\n",
    "        if y>uo or y<lo:\n",
    "            outliers.append(y)\n",
    "    return outliers"
   ]
  },
  {
   "cell_type": "code",
   "execution_count": 17,
   "metadata": {},
   "outputs": [
    {
     "data": {
      "text/plain": [
       "Index(['ACTIVITY', 'SL', 'EEG', 'BP', 'HR', 'CIRCLUATION'], dtype='object')"
      ]
     },
     "execution_count": 17,
     "metadata": {},
     "output_type": "execute_result"
    }
   ],
   "source": [
    "df.columns"
   ]
  },
  {
   "cell_type": "code",
   "execution_count": 18,
   "metadata": {},
   "outputs": [],
   "source": [
    "#Find out the Upper,Lower Out Layer Value  \n",
    "def iqr_vlue(data):\n",
    "    \n",
    "    iqr=data.quantile(0.75)-data.quantile(0.25)\n",
    "    lo=data.quantile(0.25)-1.5*iqr\n",
    "    uo=data.quantile(0.75)+1.5*iqr\n",
    "    data_min=data.min()\n",
    "    data_max=data.max()\n",
    "    return lo,data_min,uo,data_max"
   ]
  },
  {
   "cell_type": "markdown",
   "metadata": {},
   "source": [
    "#All the value which higher then the Upper out layer value replace with uo and Lower side value replace with lo."
   ]
  },
  {
   "cell_type": "code",
   "execution_count": 19,
   "metadata": {},
   "outputs": [
    {
     "data": {
      "text/plain": [
       "(-96215.24999999997, 42.2242, 186744.18999999997, 2426140.0)"
      ]
     },
     "execution_count": 19,
     "metadata": {},
     "output_type": "execute_result"
    }
   ],
   "source": [
    "iqr_vlue(df['SL'])"
   ]
  },
  {
   "cell_type": "code",
   "execution_count": 20,
   "metadata": {},
   "outputs": [
    {
     "data": {
      "image/png": "[encoded data removed]",
      "text/plain": [
       "<Figure size 432x288 with 1 Axes>"
      ]
     },
     "execution_count": 20,
     "metadata": {},
     "output_type": "execute_result"
    },
    {
     "data": {
      "image/png": "[encoded data removed]",
      "text/plain": [
       "<Figure size 432x288 with 1 Axes>"
      ]
     },
     "metadata": {
      "needs_background": "light"
     },
     "output_type": "display_data"
    }
   ],
   "source": [
    "#qq plot method to show outlaiers \n",
    "from statsmodels.graphics.gofplots import qqplot\n",
    "qqplot(df['SL'],line='s')"
   ]
  },
  {
   "cell_type": "code",
   "execution_count": 21,
   "metadata": {},
   "outputs": [],
   "source": [
    "#In 'SL' Variable we have Upper Out Layers\n",
    "df['SL']=np.where(df['SL']>iqr_vlue(df['SL'])[2],iqr_vlue(df['SL'])[2],df['SL'])"
   ]
  },
  {
   "cell_type": "code",
   "execution_count": 22,
   "metadata": {},
   "outputs": [
    {
     "data": {
      "image/png": "[encoded data removed]",
      "text/plain": [
       "<Figure size 432x288 with 1 Axes>"
      ]
     },
     "execution_count": 22,
     "metadata": {},
     "output_type": "execute_result"
    },
    {
     "data": {
      "image/png": "[encoded data removed]",
      "text/plain": [
       "<Figure size 432x288 with 1 Axes>"
      ]
     },
     "metadata": {
      "needs_background": "light"
     },
     "output_type": "display_data"
    }
   ],
   "source": [
    "qqplot(df['SL'],line='s')"
   ]
  },
  {
   "cell_type": "code",
   "execution_count": 23,
   "metadata": {},
   "outputs": [
    {
     "data": {
      "text/plain": [
       "(-10851.050000000001, -12626000.0, 3074.3900000000012, 1410000.0)"
      ]
     },
     "execution_count": 23,
     "metadata": {},
     "output_type": "execute_result"
    }
   ],
   "source": [
    "iqr_vlue(df['EEG'])"
   ]
  },
  {
   "cell_type": "code",
   "execution_count": 24,
   "metadata": {},
   "outputs": [
    {
     "data": {
      "image/png": "[encoded data removed]",
      "text/plain": [
       "<Figure size 432x288 with 1 Axes>"
      ]
     },
     "execution_count": 24,
     "metadata": {},
     "output_type": "execute_result"
    },
    {
     "data": {
      "image/png": "[encoded data removed]",
      "text/plain": [
       "<Figure size 432x288 with 1 Axes>"
      ]
     },
     "metadata": {
      "needs_background": "light"
     },
     "output_type": "display_data"
    }
   ],
   "source": [
    "qqplot(df['EEG'],line='s')"
   ]
  },
  {
   "cell_type": "code",
   "execution_count": 25,
   "metadata": {},
   "outputs": [],
   "source": [
    "#In 'EEG', WE have upper and lower Out layers .\n",
    "df['EEG']=np.where(df['EEG']>iqr_vlue(df['EEG'])[2],iqr_vlue(df['EEG'])[2],df['EEG'])\n",
    "df['EEG']=np.where(df['EEG']<iqr_vlue(df['EEG'])[0],iqr_vlue(df['EEG'])[0],df['EEG'])"
   ]
  },
  {
   "cell_type": "code",
   "execution_count": 26,
   "metadata": {},
   "outputs": [
    {
     "data": {
      "image/png": "[encoded data removed]",
      "text/plain": [
       "<Figure size 432x288 with 1 Axes>"
      ]
     },
     "execution_count": 26,
     "metadata": {},
     "output_type": "execute_result"
    },
    {
     "data": {
      "image/png": "[encoded data removed]",
      "text/plain": [
       "<Figure size 432x288 with 1 Axes>"
      ]
     },
     "metadata": {
      "needs_background": "light"
     },
     "output_type": "display_data"
    }
   ],
   "source": [
    "qqplot(df['EEG'],line='s')"
   ]
  },
  {
   "cell_type": "code",
   "execution_count": 27,
   "metadata": {},
   "outputs": [
    {
     "data": {
      "text/plain": [
       "(-54.5, 0, 157.5, 533)"
      ]
     },
     "execution_count": 27,
     "metadata": {},
     "output_type": "execute_result"
    }
   ],
   "source": [
    "iqr_vlue(df['BP'])"
   ]
  },
  {
   "cell_type": "code",
   "execution_count": 28,
   "metadata": {},
   "outputs": [
    {
     "data": {
      "image/png": "[encoded data removed]",
      "text/plain": [
       "<Figure size 432x288 with 1 Axes>"
      ]
     },
     "execution_count": 28,
     "metadata": {},
     "output_type": "execute_result"
    },
    {
     "data": {
      "image/png": "[encoded data removed]",
      "text/plain": [
       "<Figure size 432x288 with 1 Axes>"
      ]
     },
     "metadata": {
      "needs_background": "light"
     },
     "output_type": "display_data"
    }
   ],
   "source": [
    "qqplot(df['BP'],line='s')"
   ]
  },
  {
   "cell_type": "code",
   "execution_count": 29,
   "metadata": {},
   "outputs": [],
   "source": [
    "#In BP we have Upper Out layers \n",
    "df['BP']=np.where(df['BP']>iqr_vlue(df['BP'])[2],iqr_vlue(df['BP'])[2],df['BP'])"
   ]
  },
  {
   "cell_type": "code",
   "execution_count": 30,
   "metadata": {},
   "outputs": [
    {
     "data": {
      "image/png": "[encoded data removed]",
      "text/plain": [
       "<Figure size 432x288 with 1 Axes>"
      ]
     },
     "execution_count": 30,
     "metadata": {},
     "output_type": "execute_result"
    },
    {
     "data": {
      "image/png": "[encoded data removed]",
      "text/plain": [
       "<Figure size 432x288 with 1 Axes>"
      ]
     },
     "metadata": {
      "needs_background": "light"
     },
     "output_type": "display_data"
    }
   ],
   "source": [
    "qqplot(df['BP'],line='s')"
   ]
  },
  {
   "cell_type": "code",
   "execution_count": 31,
   "metadata": {},
   "outputs": [
    {
     "data": {
      "text/plain": [
       "(-109.0, 33, 499.0, 981)"
      ]
     },
     "execution_count": 31,
     "metadata": {},
     "output_type": "execute_result"
    }
   ],
   "source": [
    "iqr_vlue(df['HR'])"
   ]
  },
  {
   "cell_type": "code",
   "execution_count": 32,
   "metadata": {},
   "outputs": [
    {
     "data": {
      "image/png": "[encoded data removed]",
      "text/plain": [
       "<Figure size 432x288 with 1 Axes>"
      ]
     },
     "execution_count": 32,
     "metadata": {},
     "output_type": "execute_result"
    },
    {
     "data": {
      "image/png": "[encoded data removed]",
      "text/plain": [
       "<Figure size 432x288 with 1 Axes>"
      ]
     },
     "metadata": {
      "needs_background": "light"
     },
     "output_type": "display_data"
    }
   ],
   "source": [
    "qqplot(df['HR'],line='s')"
   ]
  },
  {
   "cell_type": "code",
   "execution_count": 33,
   "metadata": {},
   "outputs": [],
   "source": [
    "#In HR we have Upper Out layers \n",
    "df['HR']=np.where(df['HR']>iqr_vlue(df['HR'])[2],iqr_vlue(df['HR'])[2],df['HR'])"
   ]
  },
  {
   "cell_type": "code",
   "execution_count": 34,
   "metadata": {},
   "outputs": [
    {
     "data": {
      "image/png": "[encoded data removed]",
      "text/plain": [
       "<Figure size 432x288 with 1 Axes>"
      ]
     },
     "execution_count": 34,
     "metadata": {},
     "output_type": "execute_result"
    },
    {
     "data": {
      "image/png": "[encoded data removed]",
      "text/plain": [
       "<Figure size 432x288 with 1 Axes>"
      ]
     },
     "metadata": {
      "needs_background": "light"
     },
     "output_type": "display_data"
    }
   ],
   "source": [
    "qqplot(df['HR'],line='s')"
   ]
  },
  {
   "cell_type": "code",
   "execution_count": 35,
   "metadata": {},
   "outputs": [
    {
     "data": {
      "text/plain": [
       "Index(['ACTIVITY', 'SL', 'EEG', 'BP', 'HR', 'CIRCLUATION'], dtype='object')"
      ]
     },
     "execution_count": 35,
     "metadata": {},
     "output_type": "execute_result"
    }
   ],
   "source": [
    "df.columns"
   ]
  },
  {
   "cell_type": "code",
   "execution_count": 36,
   "metadata": {},
   "outputs": [
    {
     "data": {
      "image/png": "[encoded data removed]",
      "text/plain": [
       "<Figure size 432x288 with 1 Axes>"
      ]
     },
     "execution_count": 36,
     "metadata": {},
     "output_type": "execute_result"
    },
    {
     "data": {
      "image/png": "[encoded data removed]",
      "text/plain": [
       "<Figure size 432x288 with 1 Axes>"
      ]
     },
     "metadata": {
      "needs_background": "light"
     },
     "output_type": "display_data"
    }
   ],
   "source": [
    "qqplot(df['CIRCLUATION'],line='s')"
   ]
  },
  {
   "cell_type": "code",
   "execution_count": 37,
   "metadata": {},
   "outputs": [],
   "source": [
    "#In CIRCLUATION we have Upper Out layers \n",
    "df['CIRCLUATION']=np.where(df['CIRCLUATION']>iqr_vlue(df['CIRCLUATION'])[2],iqr_vlue(df['CIRCLUATION'])[2],df['CIRCLUATION'])"
   ]
  },
  {
   "cell_type": "code",
   "execution_count": 38,
   "metadata": {},
   "outputs": [
    {
     "data": {
      "image/png": "[encoded data removed]",
      "text/plain": [
       "<Figure size 432x288 with 1 Axes>"
      ]
     },
     "execution_count": 38,
     "metadata": {},
     "output_type": "execute_result"
    },
    {
     "data": {
      "image/png": "[encoded data removed]",
      "text/plain": [
       "<Figure size 432x288 with 1 Axes>"
      ]
     },
     "metadata": {
      "needs_background": "light"
     },
     "output_type": "display_data"
    }
   ],
   "source": [
    "qqplot(df['CIRCLUATION'],line='s')"
   ]
  },
  {
   "cell_type": "code",
   "execution_count": 39,
   "metadata": {},
   "outputs": [
    {
     "name": "stderr",
     "output_type": "stream",
     "text": [
      "C:\\ProgramData\\Anaconda3\\lib\\site-packages\\scipy\\stats\\stats.py:1713: FutureWarning: Using a non-tuple sequence for multidimensional indexing is deprecated; use `arr[tuple(seq)]` instead of `arr[seq]`. In the future this will be interpreted as an array index, `arr[np.array(seq)]`, which will result either in an error or a different result.\n",
      "  return np.add.reduce(sorted[indexer] * weights, axis=axis) / sumval\n"
     ]
    },
    {
     "data": {
      "text/plain": [
       "<matplotlib.axes._subplots.AxesSubplot at 0x1f1ace5c2b0>"
      ]
     },
     "execution_count": 39,
     "metadata": {},
     "output_type": "execute_result"
    },
    {
     "data": {
      "image/png": "[encoded data removed]",
      "text/plain": [
       "<Figure size 432x288 with 1 Axes>"
      ]
     },
     "metadata": {
      "needs_background": "light"
     },
     "output_type": "display_data"
    }
   ],
   "source": [
    "#Using DistPlot to check Normal distribution .\n",
    "sns.distplot(df['SL'])"
   ]
  },
  {
   "cell_type": "code",
   "execution_count": 40,
   "metadata": {},
   "outputs": [
    {
     "data": {
      "text/plain": [
       "<matplotlib.axes._subplots.AxesSubplot at 0x1f1acf754e0>"
      ]
     },
     "execution_count": 40,
     "metadata": {},
     "output_type": "execute_result"
    },
    {
     "data": {
      "image/png": "[encoded data removed]",
      "text/plain": [
       "<Figure size 432x288 with 1 Axes>"
      ]
     },
     "metadata": {
      "needs_background": "light"
     },
     "output_type": "display_data"
    }
   ],
   "source": [
    "sns.distplot(df['EEG'])"
   ]
  },
  {
   "cell_type": "code",
   "execution_count": 41,
   "metadata": {},
   "outputs": [
    {
     "data": {
      "text/plain": [
       "<matplotlib.axes._subplots.AxesSubplot at 0x1f1ad03c780>"
      ]
     },
     "execution_count": 41,
     "metadata": {},
     "output_type": "execute_result"
    },
    {
     "data": {
      "image/png": "[encoded data removed]",
      "text/plain": [
       "<Figure size 432x288 with 1 Axes>"
      ]
     },
     "metadata": {
      "needs_background": "light"
     },
     "output_type": "display_data"
    }
   ],
   "source": [
    "sns.distplot(df['BP'])"
   ]
  },
  {
   "cell_type": "code",
   "execution_count": 42,
   "metadata": {},
   "outputs": [
    {
     "data": {
      "text/plain": [
       "<matplotlib.axes._subplots.AxesSubplot at 0x1f1ad0ffef0>"
      ]
     },
     "execution_count": 42,
     "metadata": {},
     "output_type": "execute_result"
    },
    {
     "data": {
      "image/png": "[encoded data removed]",
      "text/plain": [
       "<Figure size 432x288 with 1 Axes>"
      ]
     },
     "metadata": {
      "needs_background": "light"
     },
     "output_type": "display_data"
    }
   ],
   "source": [
    "sns.distplot(df['HR'])"
   ]
  },
  {
   "cell_type": "code",
   "execution_count": 43,
   "metadata": {},
   "outputs": [
    {
     "data": {
      "text/plain": [
       "<matplotlib.axes._subplots.AxesSubplot at 0x1f1ad1b9630>"
      ]
     },
     "execution_count": 43,
     "metadata": {},
     "output_type": "execute_result"
    },
    {
     "data": {
      "image/png": "[encoded data removed]",
      "text/plain": [
       "<Figure size 432x288 with 1 Axes>"
      ]
     },
     "metadata": {
      "needs_background": "light"
     },
     "output_type": "display_data"
    }
   ],
   "source": [
    "sns.distplot(df['CIRCLUATION'])"
   ]
  },
  {
   "cell_type": "code",
   "execution_count": 44,
   "metadata": {},
   "outputs": [],
   "source": [
    "#We are going to convert \"ACTIVITY\" columns in 0 an 1 from \n",
    "#ACTIVITY=3 chnaged with 1 and other value  changed with 0"
   ]
  },
  {
   "cell_type": "code",
   "execution_count": 45,
   "metadata": {},
   "outputs": [
    {
     "data": {
      "text/plain": [
       "0    12495\n",
       "1     3504\n",
       "Name: ACTIVITY, dtype: int64"
      ]
     },
     "execution_count": 45,
     "metadata": {},
     "output_type": "execute_result"
    }
   ],
   "source": [
    "df['ACTIVITY']=np.where(df['ACTIVITY']==3,1,0)\n",
    "df['ACTIVITY'].value_counts()"
   ]
  },
  {
   "cell_type": "code",
   "execution_count": 46,
   "metadata": {},
   "outputs": [],
   "source": [
    "#Using MinMax Sclare for scalling data \n",
    "from sklearn.preprocessing import MinMaxScaler\n",
    "mn=MinMaxScaler()\n",
    "df=pd.DataFrame(mn.fit_transform(df),columns=df.columns)"
   ]
  },
  {
   "cell_type": "code",
   "execution_count": 47,
   "metadata": {},
   "outputs": [],
   "source": [
    "# Splitting The Data Into Training and Test\n",
    "from sklearn.model_selection import train_test_split\n",
    "train,test=train_test_split(df,test_size=0.2,random_state=0)"
   ]
  },
  {
   "cell_type": "code",
   "execution_count": 48,
   "metadata": {},
   "outputs": [
    {
     "name": "stdout",
     "output_type": "stream",
     "text": [
      "(12799, 6) (3200, 6)\n"
     ]
    }
   ],
   "source": [
    "#Printing size of train and test data\n",
    "print(train.shape,test.shape)"
   ]
  },
  {
   "cell_type": "markdown",
   "metadata": {},
   "source": [
    "#Applying variable reduction techniques\n",
    "1-VIF,\n",
    "2-P value\n",
    "3-Z Value"
   ]
  },
  {
   "cell_type": "code",
   "execution_count": 49,
   "metadata": {},
   "outputs": [],
   "source": [
    "#UDF for to find out VIF Value \n",
    "import statsmodels.formula.api as sm\n",
    "\n",
    "def vif_cal(input_data, dependent_col):\n",
    "    x_vars=input_data.drop([dependent_col], axis=1)\n",
    "    xvar_names=x_vars.columns\n",
    "    for i in range(0,xvar_names.shape[0]):\n",
    "        y=x_vars[xvar_names[i]] \n",
    "        x=x_vars[xvar_names.drop(xvar_names[i])]\n",
    "        rsq=sm.ols(formula=\"y~x\", data=x_vars).fit().rsquared  \n",
    "        vif=round(1/(1-rsq),2)\n",
    "        print (xvar_names[i], \" VIF = \" , vif)"
   ]
  },
  {
   "cell_type": "code",
   "execution_count": 50,
   "metadata": {},
   "outputs": [
    {
     "data": {
      "text/plain": [
       "Index(['ACTIVITY', 'SL', 'EEG', 'BP', 'HR', 'CIRCLUATION'], dtype='object')"
      ]
     },
     "execution_count": 50,
     "metadata": {},
     "output_type": "execute_result"
    }
   ],
   "source": [
    "train.columns\n"
   ]
  },
  {
   "cell_type": "code",
   "execution_count": 51,
   "metadata": {},
   "outputs": [
    {
     "name": "stdout",
     "output_type": "stream",
     "text": [
      "SL  VIF =  68.61\n",
      "EEG  VIF =  5.13\n",
      "BP  VIF =  1.32\n",
      "HR  VIF =  15.1\n",
      "CIRCLUATION  VIF =  75.49\n"
     ]
    }
   ],
   "source": [
    "#As per the Rule VIF value should not be more then 2 so we will drop varibale one by one till its less the 2\n",
    "vif_cal(train,'ACTIVITY')"
   ]
  },
  {
   "cell_type": "code",
   "execution_count": 52,
   "metadata": {},
   "outputs": [],
   "source": [
    "train1=train.drop(['CIRCLUATION'],axis=1)"
   ]
  },
  {
   "cell_type": "code",
   "execution_count": 53,
   "metadata": {},
   "outputs": [
    {
     "name": "stdout",
     "output_type": "stream",
     "text": [
      "SL  VIF =  10.15\n",
      "EEG  VIF =  5.13\n",
      "BP  VIF =  1.32\n",
      "HR  VIF =  14.11\n"
     ]
    }
   ],
   "source": [
    "vif_cal(train1,'ACTIVITY')"
   ]
  },
  {
   "cell_type": "code",
   "execution_count": 54,
   "metadata": {},
   "outputs": [],
   "source": [
    "train1=train1.drop(['HR'],axis=1)"
   ]
  },
  {
   "cell_type": "code",
   "execution_count": 55,
   "metadata": {},
   "outputs": [
    {
     "name": "stdout",
     "output_type": "stream",
     "text": [
      "SL  VIF =  3.67\n",
      "EEG  VIF =  3.82\n",
      "BP  VIF =  1.31\n"
     ]
    }
   ],
   "source": [
    "vif_cal(train1,'ACTIVITY')"
   ]
  },
  {
   "cell_type": "code",
   "execution_count": 56,
   "metadata": {},
   "outputs": [
    {
     "name": "stdout",
     "output_type": "stream",
     "text": [
      "Index(['ACTIVITY', 'SL', 'EEG', 'BP', 'HR', 'CIRCLUATION'], dtype='object') Index(['ACTIVITY', 'SL', 'EEG', 'BP'], dtype='object')\n"
     ]
    }
   ],
   "source": [
    "#We are using three parameters SL EEG and BP to build the modle \n",
    "print(test.columns,train1.columns)"
   ]
  },
  {
   "cell_type": "code",
   "execution_count": 57,
   "metadata": {},
   "outputs": [
    {
     "data": {
      "text/html": [
       "<div>\n",
       "<style scoped>\n",
       "    .dataframe tbody tr th:only-of-type {\n",
       "        vertical-align: middle;\n",
       "    }\n",
       "\n",
       "    .dataframe tbody tr th {\n",
       "        vertical-align: top;\n",
       "    }\n",
       "\n",
       "    .dataframe thead th {\n",
       "        text-align: right;\n",
       "    }\n",
       "</style>\n",
       "<table border=\"1\" class=\"dataframe\">\n",
       "  <thead>\n",
       "    <tr style=\"text-align: right;\">\n",
       "      <th></th>\n",
       "      <th>ACTIVITY</th>\n",
       "      <th>SL</th>\n",
       "      <th>EEG</th>\n",
       "      <th>BP</th>\n",
       "    </tr>\n",
       "  </thead>\n",
       "  <tbody>\n",
       "    <tr>\n",
       "      <th>8833</th>\n",
       "      <td>0.0</td>\n",
       "      <td>0.180110</td>\n",
       "      <td>0.531328</td>\n",
       "      <td>0.539683</td>\n",
       "    </tr>\n",
       "    <tr>\n",
       "      <th>223</th>\n",
       "      <td>1.0</td>\n",
       "      <td>0.000053</td>\n",
       "      <td>0.792869</td>\n",
       "      <td>0.584127</td>\n",
       "    </tr>\n",
       "    <tr>\n",
       "      <th>15839</th>\n",
       "      <td>0.0</td>\n",
       "      <td>1.000000</td>\n",
       "      <td>0.000000</td>\n",
       "      <td>0.488889</td>\n",
       "    </tr>\n",
       "    <tr>\n",
       "      <th>6321</th>\n",
       "      <td>1.0</td>\n",
       "      <td>0.147236</td>\n",
       "      <td>0.604724</td>\n",
       "      <td>0.241270</td>\n",
       "    </tr>\n",
       "    <tr>\n",
       "      <th>14912</th>\n",
       "      <td>0.0</td>\n",
       "      <td>0.857585</td>\n",
       "      <td>0.159496</td>\n",
       "      <td>0.590476</td>\n",
       "    </tr>\n",
       "    <tr>\n",
       "      <th>15686</th>\n",
       "      <td>1.0</td>\n",
       "      <td>1.000000</td>\n",
       "      <td>0.000000</td>\n",
       "      <td>0.285714</td>\n",
       "    </tr>\n",
       "    <tr>\n",
       "      <th>13108</th>\n",
       "      <td>0.0</td>\n",
       "      <td>0.882957</td>\n",
       "      <td>0.183409</td>\n",
       "      <td>1.000000</td>\n",
       "    </tr>\n",
       "    <tr>\n",
       "      <th>5682</th>\n",
       "      <td>1.0</td>\n",
       "      <td>0.065481</td>\n",
       "      <td>0.578101</td>\n",
       "      <td>0.590476</td>\n",
       "    </tr>\n",
       "    <tr>\n",
       "      <th>14250</th>\n",
       "      <td>1.0</td>\n",
       "      <td>0.864896</td>\n",
       "      <td>0.940082</td>\n",
       "      <td>0.520635</td>\n",
       "    </tr>\n",
       "    <tr>\n",
       "      <th>1113</th>\n",
       "      <td>0.0</td>\n",
       "      <td>0.008130</td>\n",
       "      <td>0.665723</td>\n",
       "      <td>0.088889</td>\n",
       "    </tr>\n",
       "    <tr>\n",
       "      <th>15500</th>\n",
       "      <td>1.0</td>\n",
       "      <td>1.000000</td>\n",
       "      <td>0.000000</td>\n",
       "      <td>0.279365</td>\n",
       "    </tr>\n",
       "    <tr>\n",
       "      <th>6271</th>\n",
       "      <td>1.0</td>\n",
       "      <td>0.064938</td>\n",
       "      <td>0.584398</td>\n",
       "      <td>0.590476</td>\n",
       "    </tr>\n",
       "    <tr>\n",
       "      <th>1969</th>\n",
       "      <td>0.0</td>\n",
       "      <td>0.040362</td>\n",
       "      <td>0.645700</td>\n",
       "      <td>0.463492</td>\n",
       "    </tr>\n",
       "    <tr>\n",
       "      <th>12178</th>\n",
       "      <td>0.0</td>\n",
       "      <td>0.868442</td>\n",
       "      <td>0.349919</td>\n",
       "      <td>1.000000</td>\n",
       "    </tr>\n",
       "    <tr>\n",
       "      <th>14221</th>\n",
       "      <td>0.0</td>\n",
       "      <td>0.866947</td>\n",
       "      <td>0.118420</td>\n",
       "      <td>0.546032</td>\n",
       "    </tr>\n",
       "    <tr>\n",
       "      <th>4439</th>\n",
       "      <td>0.0</td>\n",
       "      <td>0.048908</td>\n",
       "      <td>0.572252</td>\n",
       "      <td>0.146032</td>\n",
       "    </tr>\n",
       "    <tr>\n",
       "      <th>14013</th>\n",
       "      <td>0.0</td>\n",
       "      <td>0.848892</td>\n",
       "      <td>0.048476</td>\n",
       "      <td>0.501587</td>\n",
       "    </tr>\n",
       "    <tr>\n",
       "      <th>12477</th>\n",
       "      <td>0.0</td>\n",
       "      <td>0.456673</td>\n",
       "      <td>0.390943</td>\n",
       "      <td>0.361905</td>\n",
       "    </tr>\n",
       "    <tr>\n",
       "      <th>15885</th>\n",
       "      <td>0.0</td>\n",
       "      <td>1.000000</td>\n",
       "      <td>0.000000</td>\n",
       "      <td>1.000000</td>\n",
       "    </tr>\n",
       "    <tr>\n",
       "      <th>8000</th>\n",
       "      <td>0.0</td>\n",
       "      <td>0.204005</td>\n",
       "      <td>0.511988</td>\n",
       "      <td>0.234921</td>\n",
       "    </tr>\n",
       "    <tr>\n",
       "      <th>14412</th>\n",
       "      <td>0.0</td>\n",
       "      <td>0.875067</td>\n",
       "      <td>0.284637</td>\n",
       "      <td>0.552381</td>\n",
       "    </tr>\n",
       "    <tr>\n",
       "      <th>10609</th>\n",
       "      <td>0.0</td>\n",
       "      <td>0.358479</td>\n",
       "      <td>0.264125</td>\n",
       "      <td>1.000000</td>\n",
       "    </tr>\n",
       "    <tr>\n",
       "      <th>7356</th>\n",
       "      <td>0.0</td>\n",
       "      <td>0.143939</td>\n",
       "      <td>0.390009</td>\n",
       "      <td>0.609524</td>\n",
       "    </tr>\n",
       "    <tr>\n",
       "      <th>11184</th>\n",
       "      <td>0.0</td>\n",
       "      <td>0.422855</td>\n",
       "      <td>0.476829</td>\n",
       "      <td>0.222222</td>\n",
       "    </tr>\n",
       "    <tr>\n",
       "      <th>12690</th>\n",
       "      <td>1.0</td>\n",
       "      <td>0.279646</td>\n",
       "      <td>0.561638</td>\n",
       "      <td>0.215873</td>\n",
       "    </tr>\n",
       "    <tr>\n",
       "      <th>663</th>\n",
       "      <td>0.0</td>\n",
       "      <td>0.007552</td>\n",
       "      <td>0.715879</td>\n",
       "      <td>0.196825</td>\n",
       "    </tr>\n",
       "    <tr>\n",
       "      <th>10243</th>\n",
       "      <td>0.0</td>\n",
       "      <td>0.170634</td>\n",
       "      <td>0.584617</td>\n",
       "      <td>0.298413</td>\n",
       "    </tr>\n",
       "    <tr>\n",
       "      <th>5356</th>\n",
       "      <td>1.0</td>\n",
       "      <td>0.134803</td>\n",
       "      <td>0.547438</td>\n",
       "      <td>0.171429</td>\n",
       "    </tr>\n",
       "    <tr>\n",
       "      <th>14348</th>\n",
       "      <td>0.0</td>\n",
       "      <td>1.000000</td>\n",
       "      <td>0.000000</td>\n",
       "      <td>0.780952</td>\n",
       "    </tr>\n",
       "    <tr>\n",
       "      <th>6606</th>\n",
       "      <td>0.0</td>\n",
       "      <td>0.073086</td>\n",
       "      <td>0.571682</td>\n",
       "      <td>0.088889</td>\n",
       "    </tr>\n",
       "    <tr>\n",
       "      <th>...</th>\n",
       "      <td>...</td>\n",
       "      <td>...</td>\n",
       "      <td>...</td>\n",
       "      <td>...</td>\n",
       "    </tr>\n",
       "    <tr>\n",
       "      <th>15711</th>\n",
       "      <td>0.0</td>\n",
       "      <td>1.000000</td>\n",
       "      <td>0.000000</td>\n",
       "      <td>1.000000</td>\n",
       "    </tr>\n",
       "    <tr>\n",
       "      <th>334</th>\n",
       "      <td>0.0</td>\n",
       "      <td>0.011132</td>\n",
       "      <td>0.696805</td>\n",
       "      <td>0.133333</td>\n",
       "    </tr>\n",
       "    <tr>\n",
       "      <th>8028</th>\n",
       "      <td>0.0</td>\n",
       "      <td>0.273101</td>\n",
       "      <td>0.570255</td>\n",
       "      <td>0.203175</td>\n",
       "    </tr>\n",
       "    <tr>\n",
       "      <th>15601</th>\n",
       "      <td>0.0</td>\n",
       "      <td>1.000000</td>\n",
       "      <td>0.000000</td>\n",
       "      <td>0.298413</td>\n",
       "    </tr>\n",
       "    <tr>\n",
       "      <th>11778</th>\n",
       "      <td>0.0</td>\n",
       "      <td>0.440086</td>\n",
       "      <td>0.421606</td>\n",
       "      <td>0.330159</td>\n",
       "    </tr>\n",
       "    <tr>\n",
       "      <th>11252</th>\n",
       "      <td>0.0</td>\n",
       "      <td>0.482024</td>\n",
       "      <td>0.281359</td>\n",
       "      <td>1.000000</td>\n",
       "    </tr>\n",
       "    <tr>\n",
       "      <th>10009</th>\n",
       "      <td>1.0</td>\n",
       "      <td>0.270289</td>\n",
       "      <td>0.397908</td>\n",
       "      <td>0.146032</td>\n",
       "    </tr>\n",
       "    <tr>\n",
       "      <th>12705</th>\n",
       "      <td>1.0</td>\n",
       "      <td>0.501548</td>\n",
       "      <td>0.438123</td>\n",
       "      <td>0.285714</td>\n",
       "    </tr>\n",
       "    <tr>\n",
       "      <th>11264</th>\n",
       "      <td>0.0</td>\n",
       "      <td>0.332668</td>\n",
       "      <td>0.290479</td>\n",
       "      <td>1.000000</td>\n",
       "    </tr>\n",
       "    <tr>\n",
       "      <th>9171</th>\n",
       "      <td>0.0</td>\n",
       "      <td>0.068091</td>\n",
       "      <td>0.551656</td>\n",
       "      <td>0.158730</td>\n",
       "    </tr>\n",
       "    <tr>\n",
       "      <th>8327</th>\n",
       "      <td>0.0</td>\n",
       "      <td>0.055635</td>\n",
       "      <td>0.633449</td>\n",
       "      <td>0.209524</td>\n",
       "    </tr>\n",
       "    <tr>\n",
       "      <th>11084</th>\n",
       "      <td>0.0</td>\n",
       "      <td>0.388553</td>\n",
       "      <td>0.384544</td>\n",
       "      <td>0.304762</td>\n",
       "    </tr>\n",
       "    <tr>\n",
       "      <th>14792</th>\n",
       "      <td>0.0</td>\n",
       "      <td>1.000000</td>\n",
       "      <td>0.000000</td>\n",
       "      <td>1.000000</td>\n",
       "    </tr>\n",
       "    <tr>\n",
       "      <th>1220</th>\n",
       "      <td>0.0</td>\n",
       "      <td>0.010277</td>\n",
       "      <td>0.663178</td>\n",
       "      <td>0.076190</td>\n",
       "    </tr>\n",
       "    <tr>\n",
       "      <th>7699</th>\n",
       "      <td>0.0</td>\n",
       "      <td>0.075139</td>\n",
       "      <td>0.575580</td>\n",
       "      <td>0.107937</td>\n",
       "    </tr>\n",
       "    <tr>\n",
       "      <th>14439</th>\n",
       "      <td>0.0</td>\n",
       "      <td>0.658572</td>\n",
       "      <td>0.098744</td>\n",
       "      <td>1.000000</td>\n",
       "    </tr>\n",
       "    <tr>\n",
       "      <th>3093</th>\n",
       "      <td>1.0</td>\n",
       "      <td>0.070047</td>\n",
       "      <td>0.669161</td>\n",
       "      <td>0.088889</td>\n",
       "    </tr>\n",
       "    <tr>\n",
       "      <th>14522</th>\n",
       "      <td>0.0</td>\n",
       "      <td>1.000000</td>\n",
       "      <td>0.000000</td>\n",
       "      <td>1.000000</td>\n",
       "    </tr>\n",
       "    <tr>\n",
       "      <th>3505</th>\n",
       "      <td>0.0</td>\n",
       "      <td>0.071512</td>\n",
       "      <td>0.667887</td>\n",
       "      <td>0.114286</td>\n",
       "    </tr>\n",
       "    <tr>\n",
       "      <th>2450</th>\n",
       "      <td>0.0</td>\n",
       "      <td>0.022144</td>\n",
       "      <td>0.667241</td>\n",
       "      <td>0.761905</td>\n",
       "    </tr>\n",
       "    <tr>\n",
       "      <th>9754</th>\n",
       "      <td>0.0</td>\n",
       "      <td>0.185787</td>\n",
       "      <td>0.489539</td>\n",
       "      <td>0.368254</td>\n",
       "    </tr>\n",
       "    <tr>\n",
       "      <th>396</th>\n",
       "      <td>0.0</td>\n",
       "      <td>0.011173</td>\n",
       "      <td>0.702465</td>\n",
       "      <td>0.146032</td>\n",
       "    </tr>\n",
       "    <tr>\n",
       "      <th>4974</th>\n",
       "      <td>1.0</td>\n",
       "      <td>0.050818</td>\n",
       "      <td>0.580084</td>\n",
       "      <td>0.190476</td>\n",
       "    </tr>\n",
       "    <tr>\n",
       "      <th>4639</th>\n",
       "      <td>0.0</td>\n",
       "      <td>0.024976</td>\n",
       "      <td>0.586374</td>\n",
       "      <td>0.234921</td>\n",
       "    </tr>\n",
       "    <tr>\n",
       "      <th>5111</th>\n",
       "      <td>0.0</td>\n",
       "      <td>0.048932</td>\n",
       "      <td>0.709137</td>\n",
       "      <td>0.165079</td>\n",
       "    </tr>\n",
       "    <tr>\n",
       "      <th>12863</th>\n",
       "      <td>1.0</td>\n",
       "      <td>0.774817</td>\n",
       "      <td>0.343428</td>\n",
       "      <td>1.000000</td>\n",
       "    </tr>\n",
       "    <tr>\n",
       "      <th>9320</th>\n",
       "      <td>1.0</td>\n",
       "      <td>0.207455</td>\n",
       "      <td>0.505332</td>\n",
       "      <td>0.279365</td>\n",
       "    </tr>\n",
       "    <tr>\n",
       "      <th>10272</th>\n",
       "      <td>1.0</td>\n",
       "      <td>0.239365</td>\n",
       "      <td>0.392882</td>\n",
       "      <td>0.241270</td>\n",
       "    </tr>\n",
       "    <tr>\n",
       "      <th>8167</th>\n",
       "      <td>0.0</td>\n",
       "      <td>0.140308</td>\n",
       "      <td>0.538333</td>\n",
       "      <td>0.165079</td>\n",
       "    </tr>\n",
       "    <tr>\n",
       "      <th>12829</th>\n",
       "      <td>0.0</td>\n",
       "      <td>0.744678</td>\n",
       "      <td>0.466129</td>\n",
       "      <td>0.361905</td>\n",
       "    </tr>\n",
       "  </tbody>\n",
       "</table>\n",
       "<p>3200 rows × 4 columns</p>\n",
       "</div>"
      ],
      "text/plain": [
       "       ACTIVITY        SL       EEG        BP\n",
       "8833        0.0  0.180110  0.531328  0.539683\n",
       "223         1.0  0.000053  0.792869  0.584127\n",
       "15839       0.0  1.000000  0.000000  0.488889\n",
       "6321        1.0  0.147236  0.604724  0.241270\n",
       "14912       0.0  0.857585  0.159496  0.590476\n",
       "15686       1.0  1.000000  0.000000  0.285714\n",
       "13108       0.0  0.882957  0.183409  1.000000\n",
       "5682        1.0  0.065481  0.578101  0.590476\n",
       "14250       1.0  0.864896  0.940082  0.520635\n",
       "1113        0.0  0.008130  0.665723  0.088889\n",
       "15500       1.0  1.000000  0.000000  0.279365\n",
       "6271        1.0  0.064938  0.584398  0.590476\n",
       "1969        0.0  0.040362  0.645700  0.463492\n",
       "12178       0.0  0.868442  0.349919  1.000000\n",
       "14221       0.0  0.866947  0.118420  0.546032\n",
       "4439        0.0  0.048908  0.572252  0.146032\n",
       "14013       0.0  0.848892  0.048476  0.501587\n",
       "12477       0.0  0.456673  0.390943  0.361905\n",
       "15885       0.0  1.000000  0.000000  1.000000\n",
       "8000        0.0  0.204005  0.511988  0.234921\n",
       "14412       0.0  0.875067  0.284637  0.552381\n",
       "10609       0.0  0.358479  0.264125  1.000000\n",
       "7356        0.0  0.143939  0.390009  0.609524\n",
       "11184       0.0  0.422855  0.476829  0.222222\n",
       "12690       1.0  0.279646  0.561638  0.215873\n",
       "663         0.0  0.007552  0.715879  0.196825\n",
       "10243       0.0  0.170634  0.584617  0.298413\n",
       "5356        1.0  0.134803  0.547438  0.171429\n",
       "14348       0.0  1.000000  0.000000  0.780952\n",
       "6606        0.0  0.073086  0.571682  0.088889\n",
       "...         ...       ...       ...       ...\n",
       "15711       0.0  1.000000  0.000000  1.000000\n",
       "334         0.0  0.011132  0.696805  0.133333\n",
       "8028        0.0  0.273101  0.570255  0.203175\n",
       "15601       0.0  1.000000  0.000000  0.298413\n",
       "11778       0.0  0.440086  0.421606  0.330159\n",
       "11252       0.0  0.482024  0.281359  1.000000\n",
       "10009       1.0  0.270289  0.397908  0.146032\n",
       "12705       1.0  0.501548  0.438123  0.285714\n",
       "11264       0.0  0.332668  0.290479  1.000000\n",
       "9171        0.0  0.068091  0.551656  0.158730\n",
       "8327        0.0  0.055635  0.633449  0.209524\n",
       "11084       0.0  0.388553  0.384544  0.304762\n",
       "14792       0.0  1.000000  0.000000  1.000000\n",
       "1220        0.0  0.010277  0.663178  0.076190\n",
       "7699        0.0  0.075139  0.575580  0.107937\n",
       "14439       0.0  0.658572  0.098744  1.000000\n",
       "3093        1.0  0.070047  0.669161  0.088889\n",
       "14522       0.0  1.000000  0.000000  1.000000\n",
       "3505        0.0  0.071512  0.667887  0.114286\n",
       "2450        0.0  0.022144  0.667241  0.761905\n",
       "9754        0.0  0.185787  0.489539  0.368254\n",
       "396         0.0  0.011173  0.702465  0.146032\n",
       "4974        1.0  0.050818  0.580084  0.190476\n",
       "4639        0.0  0.024976  0.586374  0.234921\n",
       "5111        0.0  0.048932  0.709137  0.165079\n",
       "12863       1.0  0.774817  0.343428  1.000000\n",
       "9320        1.0  0.207455  0.505332  0.279365\n",
       "10272       1.0  0.239365  0.392882  0.241270\n",
       "8167        0.0  0.140308  0.538333  0.165079\n",
       "12829       0.0  0.744678  0.466129  0.361905\n",
       "\n",
       "[3200 rows x 4 columns]"
      ]
     },
     "execution_count": 57,
     "metadata": {},
     "output_type": "execute_result"
    }
   ],
   "source": [
    "#On test dataset we are droping HR and CIRCLUATION  \n",
    "test.drop(['HR','CIRCLUATION'],axis=1)"
   ]
  },
  {
   "cell_type": "code",
   "execution_count": 58,
   "metadata": {},
   "outputs": [
    {
     "data": {
      "text/plain": [
       "Index(['ACTIVITY', 'SL', 'EEG', 'BP'], dtype='object')"
      ]
     },
     "execution_count": 58,
     "metadata": {},
     "output_type": "execute_result"
    }
   ],
   "source": [
    "train1.columns"
   ]
  },
  {
   "cell_type": "code",
   "execution_count": 59,
   "metadata": {},
   "outputs": [],
   "source": [
    "train_x=train1.drop(['ACTIVITY'],axis=1)\n",
    "train_y=train1['ACTIVITY']"
   ]
  },
  {
   "cell_type": "code",
   "execution_count": 60,
   "metadata": {},
   "outputs": [],
   "source": [
    "test=test.drop(['HR','CIRCLUATION'],axis=1)"
   ]
  },
  {
   "cell_type": "code",
   "execution_count": 61,
   "metadata": {},
   "outputs": [],
   "source": [
    "test_x=test.drop(['ACTIVITY'],axis=1)\n",
    "test_y=test['ACTIVITY']"
   ]
  },
  {
   "cell_type": "code",
   "execution_count": 62,
   "metadata": {},
   "outputs": [
    {
     "data": {
      "text/plain": [
       "0.8678803031486835"
      ]
     },
     "execution_count": 62,
     "metadata": {},
     "output_type": "execute_result"
    }
   ],
   "source": [
    "from sklearn.neighbors import KNeighborsClassifier\n",
    "knn=KNeighborsClassifier(n_neighbors=4)\n",
    "knn.fit(train_x,train_y)\n",
    "knn.score(train_x,train_y)"
   ]
  },
  {
   "cell_type": "code",
   "execution_count": 63,
   "metadata": {},
   "outputs": [
    {
     "data": {
      "text/plain": [
       "0.81375"
      ]
     },
     "execution_count": 63,
     "metadata": {},
     "output_type": "execute_result"
    }
   ],
   "source": [
    "#Find out Accuracy on Test data sets \n",
    "knn.score(test_x,test_y)"
   ]
  },
  {
   "cell_type": "code",
   "execution_count": 64,
   "metadata": {},
   "outputs": [
    {
     "name": "stderr",
     "output_type": "stream",
     "text": [
      "C:\\ProgramData\\Anaconda3\\lib\\site-packages\\ipykernel_launcher.py:2: SettingWithCopyWarning: \n",
      "A value is trying to be set on a copy of a slice from a DataFrame.\n",
      "Try using .loc[row_indexer,col_indexer] = value instead\n",
      "\n",
      "See the caveats in the documentation: http://pandas.pydata.org/pandas-docs/stable/indexing.html#indexing-view-versus-copy\n",
      "  \n"
     ]
    }
   ],
   "source": [
    "#Predict the value on train data sets \n",
    "train['Pred']=knn.predict(train_x)"
   ]
  },
  {
   "cell_type": "code",
   "execution_count": 65,
   "metadata": {},
   "outputs": [
    {
     "data": {
      "text/html": [
       "<div>\n",
       "<style scoped>\n",
       "    .dataframe tbody tr th:only-of-type {\n",
       "        vertical-align: middle;\n",
       "    }\n",
       "\n",
       "    .dataframe tbody tr th {\n",
       "        vertical-align: top;\n",
       "    }\n",
       "\n",
       "    .dataframe thead th {\n",
       "        text-align: right;\n",
       "    }\n",
       "</style>\n",
       "<table border=\"1\" class=\"dataframe\">\n",
       "  <thead>\n",
       "    <tr style=\"text-align: right;\">\n",
       "      <th></th>\n",
       "      <th>ACTIVITY</th>\n",
       "      <th>SL</th>\n",
       "      <th>EEG</th>\n",
       "      <th>BP</th>\n",
       "      <th>HR</th>\n",
       "      <th>CIRCLUATION</th>\n",
       "      <th>Pred</th>\n",
       "    </tr>\n",
       "  </thead>\n",
       "  <tbody>\n",
       "    <tr>\n",
       "      <th>9473</th>\n",
       "      <td>0.0</td>\n",
       "      <td>0.203991</td>\n",
       "      <td>0.484622</td>\n",
       "      <td>0.634921</td>\n",
       "      <td>0.369099</td>\n",
       "      <td>0.219292</td>\n",
       "      <td>0.0</td>\n",
       "    </tr>\n",
       "    <tr>\n",
       "      <th>11916</th>\n",
       "      <td>1.0</td>\n",
       "      <td>0.324498</td>\n",
       "      <td>0.551584</td>\n",
       "      <td>0.266667</td>\n",
       "      <td>0.459227</td>\n",
       "      <td>0.345265</td>\n",
       "      <td>0.0</td>\n",
       "    </tr>\n",
       "    <tr>\n",
       "      <th>12975</th>\n",
       "      <td>0.0</td>\n",
       "      <td>0.604111</td>\n",
       "      <td>0.143697</td>\n",
       "      <td>0.380952</td>\n",
       "      <td>0.654506</td>\n",
       "      <td>0.592565</td>\n",
       "      <td>0.0</td>\n",
       "    </tr>\n",
       "    <tr>\n",
       "      <th>5242</th>\n",
       "      <td>0.0</td>\n",
       "      <td>0.050819</td>\n",
       "      <td>0.565388</td>\n",
       "      <td>0.615873</td>\n",
       "      <td>0.208155</td>\n",
       "      <td>0.060914</td>\n",
       "      <td>0.0</td>\n",
       "    </tr>\n",
       "    <tr>\n",
       "      <th>10750</th>\n",
       "      <td>1.0</td>\n",
       "      <td>0.322150</td>\n",
       "      <td>0.386419</td>\n",
       "      <td>0.152381</td>\n",
       "      <td>0.459227</td>\n",
       "      <td>0.345265</td>\n",
       "      <td>0.0</td>\n",
       "    </tr>\n",
       "  </tbody>\n",
       "</table>\n",
       "</div>"
      ],
      "text/plain": [
       "       ACTIVITY        SL       EEG        BP        HR  CIRCLUATION  Pred\n",
       "9473        0.0  0.203991  0.484622  0.634921  0.369099     0.219292   0.0\n",
       "11916       1.0  0.324498  0.551584  0.266667  0.459227     0.345265   0.0\n",
       "12975       0.0  0.604111  0.143697  0.380952  0.654506     0.592565   0.0\n",
       "5242        0.0  0.050819  0.565388  0.615873  0.208155     0.060914   0.0\n",
       "10750       1.0  0.322150  0.386419  0.152381  0.459227     0.345265   0.0"
      ]
     },
     "execution_count": 65,
     "metadata": {},
     "output_type": "execute_result"
    }
   ],
   "source": [
    "train.head()"
   ]
  },
  {
   "cell_type": "code",
   "execution_count": 66,
   "metadata": {},
   "outputs": [],
   "source": [
    "#Predict the value on test data sets \n",
    "test['Pred']=knn.predict(test_x)"
   ]
  },
  {
   "cell_type": "code",
   "execution_count": 67,
   "metadata": {},
   "outputs": [
    {
     "name": "stdout",
     "output_type": "stream",
     "text": [
      "Accuracy on train data sets  0.8678803031486835\n",
      "Accuracy on test data sets  0.81375\n"
     ]
    }
   ],
   "source": [
    "#Find OUt the accuracy using sklearn metod on train\n",
    "from sklearn.metrics import accuracy_score\n",
    "print (\"Accuracy on train data sets \",accuracy_score(train['ACTIVITY'],train['Pred']))\n",
    "print (\"Accuracy on test data sets \",accuracy_score(test['ACTIVITY'],test['Pred']))\n"
   ]
  },
  {
   "cell_type": "code",
   "execution_count": 68,
   "metadata": {},
   "outputs": [
    {
     "name": "stdout",
     "output_type": "stream",
     "text": [
      "train data *** 0.5085287846481876\n",
      "test data *** 0.37971014492753624\n"
     ]
    }
   ],
   "source": [
    "from sklearn.metrics import recall_score\n",
    "print(\"train data ***\",recall_score(train[\"ACTIVITY\"],train[\"Pred\"]))\n",
    "print(\"test data ***\",recall_score(test[\"ACTIVITY\"],test[\"Pred\"]))\n"
   ]
  },
  {
   "cell_type": "code",
   "execution_count": 69,
   "metadata": {},
   "outputs": [
    {
     "name": "stdout",
     "output_type": "stream",
     "text": [
      "precision: [0.87495479 0.82288672]\n",
      "recall: [0.96915373 0.50852878]\n",
      "fscore: [0.91964837 0.62859653]\n"
     ]
    }
   ],
   "source": [
    "#finding out precision,recall and fscore on train data sets  \n",
    "from sklearn.metrics import precision_recall_fscore_support as score\n",
    "precision, recall, fscore, support=score(train[\"ACTIVITY\"],train[\"Pred\"])\n",
    "print('precision: {}'.format(precision))\n",
    "print('recall: {}'.format(recall))\n",
    "print('fscore: {}'.format(fscore))"
   ]
  },
  {
   "cell_type": "code",
   "execution_count": 70,
   "metadata": {},
   "outputs": [
    {
     "name": "stdout",
     "output_type": "stream",
     "text": [
      "precision: [0.84548736 0.60930233]\n",
      "recall: [0.93306773 0.37971014]\n",
      "fscore: [0.88712121 0.46785714]\n"
     ]
    }
   ],
   "source": [
    "#finding out precision,recall and fscore on test data sets  \n",
    "from sklearn.metrics import precision_recall_fscore_support as score\n",
    "precision, recall, fscore, support=score(test[\"ACTIVITY\"],test[\"Pred\"])\n",
    "print('precision: {}'.format(precision))\n",
    "print('recall: {}'.format(recall))\n",
    "print('fscore: {}'.format(fscore))"
   ]
  },
  {
   "cell_type": "code",
   "execution_count": 71,
   "metadata": {},
   "outputs": [
    {
     "data": {
      "image/png": "[encoded data removed]",
      "text/plain": [
       "<Figure size 432x288 with 1 Axes>"
      ]
     },
     "metadata": {
      "needs_background": "light"
     },
     "output_type": "display_data"
    },
    {
     "data": {
      "text/plain": [
       "0.7388412576220408"
      ]
     },
     "execution_count": 71,
     "metadata": {},
     "output_type": "execute_result"
    }
   ],
   "source": [
    "######ROC AND AUC Traning data sets#########\n",
    "###for visualising the plots use matplotlib and import roc_curve,auc from sklearn.metrics \n",
    "from sklearn.metrics import roc_curve, auc\n",
    "import matplotlib.pyplot as plt\n",
    "\n",
    "actual = train[['ACTIVITY']]\n",
    "predicted_values1=train[[\"Pred\"]]\n",
    "false_positive_rate, true_positive_rate, thresholds = roc_curve(actual, predicted_values1)\n",
    "plt.title('Receiver Operating Characteristic')\n",
    "plt.plot(false_positive_rate, true_positive_rate)\n",
    "plt.plot([0,1],[0,1],'r--')\n",
    "plt.xlim([-0.1,1.2])\n",
    "plt.ylim([-0.1,1.2])\n",
    "plt.ylabel('True Positive Rate(Sensitivity)')\n",
    "plt.xlabel('False Positive Rate(Specificity)')\n",
    "plt.show()\n",
    "\n",
    "###Area under Curve-AUC\n",
    "roc_auc = auc(false_positive_rate, true_positive_rate)\n",
    "roc_auc"
   ]
  },
  {
   "cell_type": "code",
   "execution_count": 72,
   "metadata": {},
   "outputs": [
    {
     "data": {
      "text/plain": [
       "array([[9677,  308],\n",
       "       [1383, 1431]], dtype=int64)"
      ]
     },
     "execution_count": 72,
     "metadata": {},
     "output_type": "execute_result"
    }
   ],
   "source": [
    "#Confusion metrics of train data sets \n",
    "from sklearn.metrics import confusion_matrix\n",
    "confusion_matrix(train[\"ACTIVITY\"],train[\"Pred\"])"
   ]
  },
  {
   "cell_type": "code",
   "execution_count": 73,
   "metadata": {},
   "outputs": [
    {
     "data": {
      "text/plain": [
       "array([[2342,  168],\n",
       "       [ 428,  262]], dtype=int64)"
      ]
     },
     "execution_count": 73,
     "metadata": {},
     "output_type": "execute_result"
    }
   ],
   "source": [
    "#Confusion metrics of test data sets \n",
    "from sklearn.metrics import confusion_matrix\n",
    "confusion_matrix(test[\"ACTIVITY\"],test[\"Pred\"])"
   ]
  },
  {
   "cell_type": "code",
   "execution_count": 75,
   "metadata": {},
   "outputs": [
    {
     "data": {
      "image/png": "[encoded data removed]",
      "text/plain": [
       "<Figure size 432x288 with 1 Axes>"
      ]
     },
     "metadata": {
      "needs_background": "light"
     },
     "output_type": "display_data"
    },
    {
     "data": {
      "text/plain": [
       "0.6563889370056007"
      ]
     },
     "execution_count": 75,
     "metadata": {},
     "output_type": "execute_result"
    }
   ],
   "source": [
    "######ROC AND AUC Test data sets#########\n",
    "###for visualising the plots use matplotlib and import roc_curve,auc from sklearn.metrics \n",
    "from sklearn.metrics import roc_curve, auc\n",
    "import matplotlib.pyplot as plt\n",
    "\n",
    "actual = test[['ACTIVITY']]\n",
    "predicted_values1=test[[\"Pred\"]]\n",
    "false_positive_rate, true_positive_rate, thresholds = roc_curve(actual, predicted_values1)\n",
    "plt.title('Receiver Operating Characteristic')\n",
    "plt.plot(false_positive_rate, true_positive_rate)\n",
    "plt.plot([0,1],[0,1],'r--')\n",
    "plt.xlim([-0.1,1.2])\n",
    "plt.ylim([-0.1,1.2])\n",
    "plt.ylabel('True Positive Rate(Sensitivity)')\n",
    "plt.xlabel('False Positive Rate(Specificity)')\n",
    "plt.show()\n",
    "\n",
    "###Area under Curve-AUC\n",
    "roc_auc = auc(false_positive_rate, true_positive_rate)\n",
    "roc_auc"
   ]
  },
  {
   "cell_type": "code",
   "execution_count": 87,
   "metadata": {},
   "outputs": [],
   "source": [
    "#Importing the new data sets for validation \n",
    "abc=pd.read_csv('test.csv')"
   ]
  },
  {
   "cell_type": "code",
   "execution_count": 88,
   "metadata": {},
   "outputs": [],
   "source": [
    "#Using MinMax Sclare for scalling data \n",
    "from sklearn.preprocessing import MinMaxScaler\n",
    "mn=MinMaxScaler()\n",
    "abc=pd.DataFrame(mn.fit_transform(abc),columns=abc.columns)"
   ]
  },
  {
   "cell_type": "code",
   "execution_count": 90,
   "metadata": {},
   "outputs": [],
   "source": [
    "abc['Pred']=knn.predict(abc.drop(['HR','CIRCLUATION','TIME'],axis=1))"
   ]
  },
  {
   "cell_type": "code",
   "execution_count": 91,
   "metadata": {},
   "outputs": [
    {
     "data": {
      "text/plain": [
       "0.0    345\n",
       "1.0     37\n",
       "Name: Pred, dtype: int64"
      ]
     },
     "execution_count": 91,
     "metadata": {},
     "output_type": "execute_result"
    }
   ],
   "source": [
    "abc['Pred'].value_counts()"
   ]
  },
  {
   "cell_type": "code",
   "execution_count": null,
   "metadata": {},
   "outputs": [],
   "source": []
  }
 ],
 "metadata": {
  "kernelspec": {
   "display_name": "Python 3",
   "language": "python",
   "name": "python3"
  },
  "language_info": {
   "codemirror_mode": {
    "name": "ipython",
    "version": 3
   },
   "file_extension": ".py",
   "mimetype": "text/x-python",
   "name": "python",
   "nbconvert_exporter": "python",
   "pygments_lexer": "ipython3",
   "version": "3.7.1"
  }
 },
 "nbformat": 4,
 "nbformat_minor": 2
}
